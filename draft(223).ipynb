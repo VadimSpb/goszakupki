{
 "cells": [
  {
   "cell_type": "markdown",
   "metadata": {},
   "source": [
    "Цель модуля - парсить следующую инфу, которой нет в обычной выгрузке: \n",
    "* цену контракта после снижения\n",
    "* победителя\n",
    "* \n"
   ]
  },
  {
   "cell_type": "code",
   "execution_count": 2,
   "metadata": {},
   "outputs": [],
   "source": [
    "import requests\n",
    "from bs4 import BeautifulSoup as BS\n",
    "import bs4\n",
    "import time\n",
    "from fake_useragent import UserAgent\n",
    "import re \n",
    "#from decimal import Decimal\n",
    "import numpy as np\n",
    "import pandas as pd\n",
    "import shutil\n",
    "import os"
   ]
  },
  {
   "cell_type": "code",
   "execution_count": 3,
   "metadata": {},
   "outputs": [],
   "source": [
    "link_main_pattern = 'http://zakupki.gov.ru'\n",
    "# link_pattern_fz44_order_info = 'http://zakupki.gov.ru/epz/order/notice/ea44/view/common-info.html?regNumber='\n",
    "link_pattern_fz44_result_info = 'http://zakupki.gov.ru/epz/order/notice/ea44/view/supplier-results.html?regNumber='\n",
    "# link_pattern_fz44_documents = 'http://zakupki.gov.ru/epz/order/notice/ea44/view/documents.html?regNumber='\n",
    "# link_pattern_fz44_contract_info = 'http://zakupki.gov.ru/epz/contract/extendedsearch/results.html?searchString=&orderNumber='\n",
    "link_pattern_fz44_contruct = 'http://zakupki.gov.ru/epz/contract/contractCard/document-info.html?reestrNumber='\n",
    "link_pattern_fz223 = 'http://zakupki.gov.ru/223/purchase/public/purchase/info/common-info.html?regNumber='\n",
    "\n",
    "### NEW \n",
    "\n",
    "link_fz223_documents = 'http://zakupki.gov.ru/223/purchase/public/purchase/info/documents.html?regNumber='"
   ]
  },
  {
   "cell_type": "markdown",
   "metadata": {},
   "source": [
    "### Перечень локальных функций:"
   ]
  },
  {
   "cell_type": "code",
   "execution_count": 4,
   "metadata": {},
   "outputs": [],
   "source": [
    "def get_page(link):\n",
    "    page = requests.get(link, headers={'User-Agent': UserAgent().chrome})\n",
    "    page.encoding = 'utf8'\n",
    "    page = page.text\n",
    "    soup = BS(page)\n",
    "    while soup.title.text == ' Страница не найдена ':\n",
    "        time.sleep(5)\n",
    "        get_page(link)\n",
    "    return soup"
   ]
  },
  {
   "cell_type": "code",
   "execution_count": 5,
   "metadata": {},
   "outputs": [],
   "source": [
    "def clear_text(content):\n",
    "    content = re.sub(r'[\\n]+', '', content) # Очистили от переносов\n",
    "    content = re.sub(r'[\\s]{2,}', '', content) # Очистили от лишних пробелов\n",
    "    content = re.sub(r'\\xa0', '', content) # Соединили цену\n",
    "    content = re.sub(r',', '.', content) # изменили запись для возможности преобрадования str в decimal\n",
    "    content = re.sub(r' Российский рубль', '', content) # убираем валюту\n",
    "    return content"
   ]
  },
  {
   "cell_type": "code",
   "execution_count": 78,
   "metadata": {},
   "outputs": [],
   "source": [
    "def get_win_info_44(order_num):\n",
    "    link = link_pattern_fz44_result_info + order_num\n",
    "    soup = get_page(link)\n",
    "    winner = soup.find_all('td')[-3].text # опытным путём определил, где находится наименование победителя\n",
    "    winner = clear_text(winner)\n",
    "    \n",
    "    winner_price = soup.find_all('td')[-2].text\n",
    "    winner_price = clear_text(winner_price)\n",
    "    if winner_price != '':\n",
    "        winner_price = float(winner_price)\n",
    "\n",
    "        contruct_link_div = soup.find_all('a', href=True)[-1]\n",
    "        link_to_contruct_info = link_main_pattern + contruct_link_div.get('href') # парсим ссылку на страницу\n",
    "        num_of_contruct = contruct_link_div.text.replace('№','') #  парсим номер контракта и освобождаем его от значка №\n",
    "\n",
    "\n",
    "        df = pd.DataFrame({\n",
    "        'Реестровый номер закупки': [order_num],\n",
    "        'победитель': [winner],\n",
    "        'цена контракта после снижения': [winner_price],\n",
    "        'номер контракта': [num_of_contruct]\n",
    "        })\n",
    "    \n",
    "        return df\n",
    "    "
   ]
  },
  {
   "cell_type": "code",
   "execution_count": 7,
   "metadata": {},
   "outputs": [],
   "source": [
    "def get_empty_dataframe():\n",
    "    df = pd.DataFrame({\n",
    "    'Реестровый номер закупки': [],\n",
    "    'победитель': [],\n",
    "    'цена контракта после снижения': [],\n",
    "    'номер контракта': []\n",
    "    })\n",
    "    \n",
    "    return df"
   ]
  },
  {
   "cell_type": "code",
   "execution_count": 8,
   "metadata": {},
   "outputs": [],
   "source": [
    "def get_contruct44(contruct_num):\n",
    "    link = link_pattern_fz44_contruct + contruct_num\n",
    "    soup = get_page(link)\n",
    "\n",
    "    contruct_div = soup.find_all('a', class_='')[2] \n",
    "    link_to_contruct = contruct_div.get('href')\n",
    "    file_name = contruct_div.get('title')\n",
    "\n",
    "    file_extension = re.findall(r'\\.[a-z]+', file_name)[0]\n",
    "    directory = 'contructs/' \n",
    "    filename =  directory + contruct_num + file_extension\n",
    "    file = requests.get(link_to_contruct, stream=True, headers={'User-Agent': UserAgent().chrome})\n",
    "    \n",
    "    if file.status_code == 200:\n",
    "        with open(filename, 'wb') as f:\n",
    "            file.raw.decode_content = True\n",
    "            shutil.copyfileobj(file.raw, f)"
   ]
  },
  {
   "cell_type": "code",
   "execution_count": 81,
   "metadata": {},
   "outputs": [],
   "source": [
    "def get_contruct233(contruct_num):\n",
    "    link = link_fz223_documents + order_num\n",
    "    soup = get_page(link)\n",
    "    documents_div = soup.find_all('a', class_='epz_aware')\n",
    "    directory = 'C:/Users/v.mazeiko/Documents/Парсинг Госзаупок/contructs/' + order_num\n",
    "\n",
    "    if not os.path.isdir(directory):\n",
    "        os.mkdir(directory) \n",
    "\n",
    "    for i in range(0, len(documents_div)-1):\n",
    "        link_to_file = link_main_pattern + documents_div[i].get('href') \n",
    "    \n",
    "        file = requests.get(link, stream=True, headers={'User-Agent': UserAgent().chrome})\n",
    "        file.encoding = 'utf-8'\n",
    "    \n",
    "        if file.headers.get('Content-Disposition') is not None:\n",
    "            file_extension = re.findall(r'\\.[a-z][^\\n]+', file.headers.get('Content-Disposition'))\n",
    "        else:\n",
    "            file_extension = ''\n",
    "        file_name = clear_text(documents_div[i].text) + file_extension\n",
    "        save_here = directory + '//' + file_name\n",
    "        if file.status_code == 200:\n",
    "            with open(save_here, 'wb') as f:\n",
    "                file.raw.decode_content = True\n",
    "                shutil.copyfileobj(file.raw, f)    "
   ]
  },
  {
   "cell_type": "markdown",
   "metadata": {},
   "source": [
    "### Тренировочные данные:"
   ]
  },
  {
   "cell_type": "code",
   "execution_count": 99,
   "metadata": {},
   "outputs": [],
   "source": [
    "test_data = [\n",
    " '31807326700',\n",
    " '31807270424',\n",
    " '31807200018',\n",
    " '31807199705',\n",
    " '31807151989',\n",
    " '31807219596',\n",
    " '31807153786',\n",
    " '31807147180',\n",
    " '31807002991']"
   ]
  },
  {
   "cell_type": "markdown",
   "metadata": {},
   "source": [
    "### * * * Сборочный стол * * *"
   ]
  },
  {
   "cell_type": "code",
   "execution_count": 63,
   "metadata": {},
   "outputs": [],
   "source": [
    "order_num = str(test_data[0])"
   ]
  },
  {
   "cell_type": "code",
   "execution_count": 64,
   "metadata": {},
   "outputs": [],
   "source": []
  },
  {
   "cell_type": "code",
   "execution_count": 106,
   "metadata": {},
   "outputs": [],
   "source": [
    "def get_win_info_233(order_num, pause):\n",
    "    link_fz223_contructs_links = 'http://zakupki.gov.ru/223/purchase/public/purchase/info/contractInfo.html?regNumber='\n",
    "    link = link_fz223_contructs_links + str(order_num)\n",
    "    \n",
    "    soup = get_page(link)\n",
    "    \n",
    "    link = soup.find_all('li')[0].get('onclick')\n",
    "    if link is None:\n",
    "        df = get_empty_dataframe()\n",
    "        df['Реестровый номер закупки'] = order_num\n",
    "        return df\n",
    "    \n",
    "    link = re.sub(r'window\\.open\\(\\'|\\'\\)', '', link)\n",
    "    link = re.sub(r'view-common', r'view-subject', link)\n",
    "    link = link_main_pattern + link\n",
    "    soup = get_page(link)\n",
    "    time.sleep(pause)\n",
    "\n",
    "    winner = soup.find_all('td')[-7].text\n",
    "    winner_price = soup.find_all('td')[10].text\n",
    "\n",
    "    if winner_price != '':\n",
    "            #winner_price = float(winner_price)\n",
    "            winner_price =  winner_price\n",
    "    \n",
    "            contruct_link_div = soup.find_all('a', href=True)[-1]\n",
    "            link_to_contruct_info = link_main_pattern + contruct_link_div.get('href') # парсим ссылку на страницу\n",
    "            num_of_contruct = re.findall(r'[\\d-]+', clear_text(soup.h1.string))[0] #  парсим номер контракта\n",
    "    \n",
    "    \n",
    "            df = pd.DataFrame({\n",
    "            'Реестровый номер закупки': [order_num],\n",
    "            'победитель': [winner],\n",
    "            'цена контракта после снижения': [winner_price],\n",
    "            'номер контракта': [num_of_contruct]\n",
    "            })\n",
    "            \n",
    "            return df"
   ]
  },
  {
   "cell_type": "code",
   "execution_count": null,
   "metadata": {},
   "outputs": [],
   "source": []
  },
  {
   "cell_type": "code",
   "execution_count": null,
   "metadata": {},
   "outputs": [],
   "source": []
  },
  {
   "cell_type": "code",
   "execution_count": null,
   "metadata": {},
   "outputs": [],
   "source": []
  },
  {
   "cell_type": "code",
   "execution_count": null,
   "metadata": {},
   "outputs": [],
   "source": []
  },
  {
   "cell_type": "code",
   "execution_count": null,
   "metadata": {},
   "outputs": [],
   "source": []
  },
  {
   "cell_type": "markdown",
   "metadata": {},
   "source": [
    "### * * * THE END * * *"
   ]
  },
  {
   "cell_type": "markdown",
   "metadata": {},
   "source": [
    " "
   ]
  },
  {
   "cell_type": "markdown",
   "metadata": {},
   "source": [
    "### Проверка"
   ]
  },
  {
   "cell_type": "code",
   "execution_count": 100,
   "metadata": {},
   "outputs": [
    {
     "data": {
      "text/html": [
       "<div>\n",
       "<style scoped>\n",
       "    .dataframe tbody tr th:only-of-type {\n",
       "        vertical-align: middle;\n",
       "    }\n",
       "\n",
       "    .dataframe tbody tr th {\n",
       "        vertical-align: top;\n",
       "    }\n",
       "\n",
       "    .dataframe thead th {\n",
       "        text-align: right;\n",
       "    }\n",
       "</style>\n",
       "<table border=\"1\" class=\"dataframe\">\n",
       "  <thead>\n",
       "    <tr style=\"text-align: right;\">\n",
       "      <th></th>\n",
       "      <th>Реестровый номер закупки</th>\n",
       "      <th>победитель</th>\n",
       "      <th>цена контракта после снижения</th>\n",
       "      <th>номер контракта</th>\n",
       "    </tr>\n",
       "  </thead>\n",
       "  <tbody>\n",
       "  </tbody>\n",
       "</table>\n",
       "</div>"
      ],
      "text/plain": [
       "Empty DataFrame\n",
       "Columns: [Реестровый номер закупки, победитель, цена контракта после снижения, номер контракта]\n",
       "Index: []"
      ]
     },
     "execution_count": 100,
     "metadata": {},
     "output_type": "execute_result"
    }
   ],
   "source": [
    "df = get_empty_dataframe()\n",
    "df"
   ]
  },
  {
   "cell_type": "code",
   "execution_count": 107,
   "metadata": {},
   "outputs": [],
   "source": [
    "for order in test_data:\n",
    "    tmp_df = get_win_info_233(order, 2)\n",
    "    print\n",
    "    df= pd.concat([df, tmp_df])\n",
    "    time.sleep(2)\n",
    "    "
   ]
  },
  {
   "cell_type": "code",
   "execution_count": 108,
   "metadata": {},
   "outputs": [
    {
     "data": {
      "text/html": [
       "<div>\n",
       "<style scoped>\n",
       "    .dataframe tbody tr th:only-of-type {\n",
       "        vertical-align: middle;\n",
       "    }\n",
       "\n",
       "    .dataframe tbody tr th {\n",
       "        vertical-align: top;\n",
       "    }\n",
       "\n",
       "    .dataframe thead th {\n",
       "        text-align: right;\n",
       "    }\n",
       "</style>\n",
       "<table border=\"1\" class=\"dataframe\">\n",
       "  <thead>\n",
       "    <tr style=\"text-align: right;\">\n",
       "      <th></th>\n",
       "      <th>Реестровый номер закупки</th>\n",
       "      <th>победитель</th>\n",
       "      <th>цена контракта после снижения</th>\n",
       "      <th>номер контракта</th>\n",
       "    </tr>\n",
       "  </thead>\n",
       "  <tbody>\n",
       "    <tr>\n",
       "      <th>0</th>\n",
       "      <td>31807326700</td>\n",
       "      <td>ООО «ЭП «Меркурий»</td>\n",
       "      <td>13008</td>\n",
       "      <td>31807326700-01</td>\n",
       "    </tr>\n",
       "    <tr>\n",
       "      <th>0</th>\n",
       "      <td>31807270424</td>\n",
       "      <td>Общество с ограниченной ответственностью \"Крон...</td>\n",
       "      <td>2.32331e+06</td>\n",
       "      <td>31807270424-01</td>\n",
       "    </tr>\n",
       "    <tr>\n",
       "      <th>0</th>\n",
       "      <td>31807151989</td>\n",
       "      <td>Общество с ограниченной ответственностью \"ЭКО ...</td>\n",
       "      <td>284850</td>\n",
       "      <td>31807151989-01</td>\n",
       "    </tr>\n",
       "    <tr>\n",
       "      <th>0</th>\n",
       "      <td>31807326700</td>\n",
       "      <td>ООО «ЭП «Меркурий»</td>\n",
       "      <td>13008</td>\n",
       "      <td>31807326700-01</td>\n",
       "    </tr>\n",
       "    <tr>\n",
       "      <th>0</th>\n",
       "      <td>31807270424</td>\n",
       "      <td>Общество с ограниченной ответственностью \"Крон...</td>\n",
       "      <td>2323309.56</td>\n",
       "      <td>31807270424-01</td>\n",
       "    </tr>\n",
       "    <tr>\n",
       "      <th>0</th>\n",
       "      <td>31807151989</td>\n",
       "      <td>Общество с ограниченной ответственностью \"ЭКО ...</td>\n",
       "      <td>284850</td>\n",
       "      <td>31807151989-01</td>\n",
       "    </tr>\n",
       "    <tr>\n",
       "      <th>0</th>\n",
       "      <td>31807219596</td>\n",
       "      <td>ООО \"ОРКО-инвест\"</td>\n",
       "      <td>цена размещения 1 м3 отходов III, IV классов о...</td>\n",
       "      <td>31807219596-01</td>\n",
       "    </tr>\n",
       "    <tr>\n",
       "      <th>0</th>\n",
       "      <td>31807153786</td>\n",
       "      <td>Общество с ограниченной ответственностью \"СТО\"</td>\n",
       "      <td>149000</td>\n",
       "      <td>31807153786-01</td>\n",
       "    </tr>\n",
       "    <tr>\n",
       "      <th>0</th>\n",
       "      <td>31807147180</td>\n",
       "      <td>Общество с ограниченной ответственностью \"Сорэ...</td>\n",
       "      <td>403351.5</td>\n",
       "      <td>31807147180-01</td>\n",
       "    </tr>\n",
       "    <tr>\n",
       "      <th>0</th>\n",
       "      <td>31807002991</td>\n",
       "      <td>Общество с ограниченной ответственностью \"СОРЭ...</td>\n",
       "      <td>391500</td>\n",
       "      <td>31807002991-01</td>\n",
       "    </tr>\n",
       "  </tbody>\n",
       "</table>\n",
       "</div>"
      ],
      "text/plain": [
       "  Реестровый номер закупки                                         победитель  \\\n",
       "0              31807326700                                 ООО «ЭП «Меркурий»   \n",
       "0              31807270424  Общество с ограниченной ответственностью \"Крон...   \n",
       "0              31807151989  Общество с ограниченной ответственностью \"ЭКО ...   \n",
       "0              31807326700                                 ООО «ЭП «Меркурий»   \n",
       "0              31807270424  Общество с ограниченной ответственностью \"Крон...   \n",
       "0              31807151989  Общество с ограниченной ответственностью \"ЭКО ...   \n",
       "0              31807219596                                  ООО \"ОРКО-инвест\"   \n",
       "0              31807153786     Общество с ограниченной ответственностью \"СТО\"   \n",
       "0              31807147180  Общество с ограниченной ответственностью \"Сорэ...   \n",
       "0              31807002991  Общество с ограниченной ответственностью \"СОРЭ...   \n",
       "\n",
       "                       цена контракта после снижения номер контракта  \n",
       "0                                              13008  31807326700-01  \n",
       "0                                        2.32331e+06  31807270424-01  \n",
       "0                                             284850  31807151989-01  \n",
       "0                                              13008  31807326700-01  \n",
       "0                                         2323309.56  31807270424-01  \n",
       "0                                             284850  31807151989-01  \n",
       "0  цена размещения 1 м3 отходов III, IV классов о...  31807219596-01  \n",
       "0                                             149000  31807153786-01  \n",
       "0                                           403351.5  31807147180-01  \n",
       "0                                             391500  31807002991-01  "
      ]
     },
     "execution_count": 108,
     "metadata": {},
     "output_type": "execute_result"
    }
   ],
   "source": [
    "df"
   ]
  },
  {
   "cell_type": "code",
   "execution_count": 103,
   "metadata": {},
   "outputs": [
    {
     "data": {
      "text/plain": [
       "0    31807326700\n",
       "0    31807270424\n",
       "0    31807151989\n",
       "Name: Реестровый номер закупки, dtype: object"
      ]
     },
     "execution_count": 103,
     "metadata": {},
     "output_type": "execute_result"
    }
   ],
   "source": [
    "df['Реестровый номер закупки'] =="
   ]
  },
  {
   "cell_type": "code",
   "execution_count": null,
   "metadata": {},
   "outputs": [],
   "source": []
  },
  {
   "cell_type": "code",
   "execution_count": null,
   "metadata": {},
   "outputs": [],
   "source": []
  },
  {
   "cell_type": "code",
   "execution_count": null,
   "metadata": {},
   "outputs": [],
   "source": []
  },
  {
   "cell_type": "code",
   "execution_count": null,
   "metadata": {},
   "outputs": [],
   "source": []
  },
  {
   "cell_type": "markdown",
   "metadata": {},
   "source": [
    "# ПОМОЙКА"
   ]
  },
  {
   "cell_type": "code",
   "execution_count": null,
   "metadata": {},
   "outputs": [],
   "source": [
    "tag = soup.td\n",
    "tag"
   ]
  },
  {
   "cell_type": "code",
   "execution_count": null,
   "metadata": {},
   "outputs": [],
   "source": [
    "tag.attrs"
   ]
  },
  {
   "cell_type": "code",
   "execution_count": null,
   "metadata": {},
   "outputs": [],
   "source": [
    "tag.contents"
   ]
  },
  {
   "cell_type": "code",
   "execution_count": null,
   "metadata": {},
   "outputs": [],
   "source": [
    "for child in tag.descendants:\n",
    "    print(child)"
   ]
  },
  {
   "cell_type": "code",
   "execution_count": null,
   "metadata": {},
   "outputs": [],
   "source": [
    "len(list(soup.children))"
   ]
  },
  {
   "cell_type": "code",
   "execution_count": null,
   "metadata": {},
   "outputs": [],
   "source": [
    "len(list(soup.descendants))"
   ]
  },
  {
   "cell_type": "code",
   "execution_count": null,
   "metadata": {},
   "outputs": [],
   "source": []
  },
  {
   "cell_type": "code",
   "execution_count": null,
   "metadata": {},
   "outputs": [],
   "source": [
    "soup.find_all('div', class_='contentTabBoxBlock') # нашёл бокс с интересующей инфой"
   ]
  },
  {
   "cell_type": "code",
   "execution_count": null,
   "metadata": {},
   "outputs": [],
   "source": []
  },
  {
   "cell_type": "code",
   "execution_count": null,
   "metadata": {},
   "outputs": [],
   "source": []
  },
  {
   "cell_type": "code",
   "execution_count": null,
   "metadata": {},
   "outputs": [],
   "source": []
  },
  {
   "cell_type": "code",
   "execution_count": null,
   "metadata": {},
   "outputs": [],
   "source": [
    "b = soup.find_all('td')\n",
    "for i in range(len(b)):\n",
    "    print(f'**************{i}****************')\n",
    "    print(b[i])"
   ]
  },
  {
   "cell_type": "code",
   "execution_count": null,
   "metadata": {},
   "outputs": [],
   "source": [
    "b[16].text # winner"
   ]
  },
  {
   "cell_type": "code",
   "execution_count": null,
   "metadata": {},
   "outputs": [],
   "source": [
    "soup.find_all('td')[16].text"
   ]
  },
  {
   "cell_type": "code",
   "execution_count": null,
   "metadata": {},
   "outputs": [],
   "source": []
  },
  {
   "cell_type": "markdown",
   "metadata": {},
   "source": [
    " "
   ]
  },
  {
   "cell_type": "markdown",
   "metadata": {},
   "source": [
    "# СПРАВОЧНИК"
   ]
  },
  {
   "cell_type": "code",
   "execution_count": null,
   "metadata": {},
   "outputs": [],
   "source": [
    "# soup.find_all('a')  - все ссылки"
   ]
  },
  {
   "cell_type": "code",
   "execution_count": null,
   "metadata": {},
   "outputs": [],
   "source": []
  },
  {
   "cell_type": "code",
   "execution_count": null,
   "metadata": {},
   "outputs": [],
   "source": []
  },
  {
   "cell_type": "markdown",
   "metadata": {},
   "source": [
    "### Интересная штучка из  http://qaru.site/questions/15235681/beautifulsoup4-documentation-example-doesnt-work/24168590  для поиска определённых тагов"
   ]
  },
  {
   "cell_type": "code",
   "execution_count": null,
   "metadata": {},
   "outputs": [],
   "source": [
    "def has_class_but_no_id(tag):\n",
    "    return tag.has_attr('class') and not tag.has_attr('id')\n",
    "a.find_all(has_class_but_no_id)"
   ]
  },
  {
   "cell_type": "code",
   "execution_count": null,
   "metadata": {},
   "outputs": [],
   "source": []
  },
  {
   "cell_type": "code",
   "execution_count": null,
   "metadata": {},
   "outputs": [],
   "source": []
  },
  {
   "cell_type": "code",
   "execution_count": null,
   "metadata": {},
   "outputs": [],
   "source": []
  },
  {
   "cell_type": "code",
   "execution_count": null,
   "metadata": {},
   "outputs": [],
   "source": []
  },
  {
   "cell_type": "code",
   "execution_count": null,
   "metadata": {},
   "outputs": [],
   "source": []
  },
  {
   "cell_type": "code",
   "execution_count": null,
   "metadata": {},
   "outputs": [],
   "source": []
  },
  {
   "cell_type": "code",
   "execution_count": null,
   "metadata": {},
   "outputs": [],
   "source": [
    "# образец кода для парсинга слов в вики (первого порядка)\n",
    "def get_links(topic):\n",
    "    link = 'https://ru.m.wikipedia.org/wiki/' + topic.capitalize()\n",
    "    spam = get(link).text\n",
    "    soup = BS(spam, 'html.parser')\n",
    "    link_example = \"\"\" <a href=\"LINK\">CONTENT</a> \"\"\"\n",
    "    agg = soup.find_all(\"a\")\n",
    "    links = []\n",
    "    for n in agg:\n",
    "        lnk = n.get(\"href\")\n",
    "        if re.fullmatch(r'\\/wiki\\/(?:)[^\\',\\n]*|\\/w\\/(?:)[^\\',\\n]*', lnk) is not None:\n",
    "            links.append('https://ru.m.wikipedia.org' + lnk)\n",
    "        else:\n",
    "            continue\n",
    "    links.append(link)\n",
    "\n",
    "    return links"
   ]
  },
  {
   "cell_type": "code",
   "execution_count": null,
   "metadata": {},
   "outputs": [],
   "source": []
  },
  {
   "cell_type": "code",
   "execution_count": null,
   "metadata": {},
   "outputs": [],
   "source": [
    "# цикл, возвращающий ссылки:\n",
    "for i in soup.find_all('a', href=True):\n",
    "    print(i['href'])"
   ]
  },
  {
   "cell_type": "code",
   "execution_count": null,
   "metadata": {},
   "outputs": [],
   "source": []
  },
  {
   "cell_type": "code",
   "execution_count": null,
   "metadata": {},
   "outputs": [],
   "source": []
  },
  {
   "cell_type": "code",
   "execution_count": null,
   "metadata": {},
   "outputs": [],
   "source": []
  }
 ],
 "metadata": {
  "kernelspec": {
   "display_name": "Python 3",
   "language": "python",
   "name": "python3"
  },
  "language_info": {
   "codemirror_mode": {
    "name": "ipython",
    "version": 3
   },
   "file_extension": ".py",
   "mimetype": "text/x-python",
   "name": "python",
   "nbconvert_exporter": "python",
   "pygments_lexer": "ipython3",
   "version": "3.7.3"
  }
 },
 "nbformat": 4,
 "nbformat_minor": 2
}
