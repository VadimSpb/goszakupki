{
 "cells": [
  {
   "cell_type": "markdown",
   "metadata": {},
   "source": [
    "Цель модуля - парсить следующую инфу, которой нет в обычной выгрузке: \n",
    "* цену контракта после снижения\n",
    "* победителя\n",
    "* \n"
   ]
  },
  {
   "cell_type": "code",
   "execution_count": 2,
   "metadata": {},
   "outputs": [],
   "source": [
    "import requests\n",
    "from bs4 import BeautifulSoup as BS\n",
    "import bs4\n",
    "import time\n",
    "from fake_useragent import UserAgent\n",
    "import re \n",
    "#from decimal import Decimal\n",
    "import numpy as np\n",
    "import pandas as pd\n",
    "import shutil\n",
    "import os"
   ]
  },
  {
   "cell_type": "code",
   "execution_count": 9,
   "metadata": {},
   "outputs": [],
   "source": [
    "link_main_pattern = 'http://zakupki.gov.ru'\n",
    "# link_pattern_fz44_order_info = 'http://zakupki.gov.ru/epz/order/notice/ea44/view/common-info.html?regNumber='\n",
    "link_pattern_fz44_result_info = 'http://zakupki.gov.ru/epz/order/notice/ea44/view/supplier-results.html?regNumber='\n",
    "# link_pattern_fz44_documents = 'http://zakupki.gov.ru/epz/order/notice/ea44/view/documents.html?regNumber='\n",
    "# link_pattern_fz44_contract_info = 'http://zakupki.gov.ru/epz/contract/extendedsearch/results.html?searchString=&orderNumber='\n",
    "link_pattern_fz44_contruct = 'http://zakupki.gov.ru/epz/contract/contractCard/document-info.html?reestrNumber='\n",
    "link_pattern_fz223 = 'http://zakupki.gov.ru/223/purchase/public/purchase/info/common-info.html?regNumber='"
   ]
  },
  {
   "cell_type": "markdown",
   "metadata": {},
   "source": [
    "### Перечень локальных функций:"
   ]
  },
  {
   "cell_type": "code",
   "execution_count": 10,
   "metadata": {},
   "outputs": [],
   "source": [
    "def get_page(link):\n",
    "    page = requests.get(link, headers={'User-Agent': UserAgent().chrome})\n",
    "    page.encoding = 'utf8'\n",
    "    page = page.text\n",
    "    soup = BS(page)\n",
    "    while soup.title.text == ' Страница не найдена ':\n",
    "        time.sleep(5)\n",
    "        get_page(link)\n",
    "    return soup"
   ]
  },
  {
   "cell_type": "code",
   "execution_count": 11,
   "metadata": {},
   "outputs": [],
   "source": [
    "def clear_text(content):\n",
    "    content = re.sub(r'[\\n]+', '', content) # Очистили от переносов\n",
    "    content = re.sub(r'[\\s]{2,}', '', content) # Очистили от лишних пробелов\n",
    "    content = re.sub(r'\\xa0', '', content) # Соединили цену\n",
    "    content = re.sub(r',', '.', content) # изменили запись для возможности преобрадования str в decimal\n",
    "    content = re.sub(r' Российский рубль', '', content) # убираем валюту\n",
    "    return content"
   ]
  },
  {
   "cell_type": "code",
   "execution_count": 232,
   "metadata": {},
   "outputs": [],
   "source": [
    "def get_win_info_44(order_num):\n",
    "    link = link_pattern_fz44_result_info + order_num\n",
    "    soup = get_page(link)\n",
    "    winner = soup.find_all('td')[-3].text # опытным путём определил, где находится наименование победителя\n",
    "    winner = clear_text(winner)\n",
    "    \n",
    "    winner_price = soup.find_all('td')[-2].text\n",
    "    winner_price = clear_text(winner_price)\n",
    "    if winner_price = '':\n",
    "        winner_price = float(winner_price)\n",
    "\n",
    "        contruct_link_div = soup.find_all('a', href=True)[-1]\n",
    "        link_to_contruct_info = link_main_pattern + contruct_link_div.get('href') # парсим ссылку на страницу\n",
    "        num_of_contruct = contruct_link_div.text.replace('№','') #  парсим номер контракта и освобождаем его от значка №\n",
    "\n",
    "\n",
    "        df = pd.DataFrame({\n",
    "        'Реестровый номер закупки': [order_num],\n",
    "        'победитель': [winner],\n",
    "        'цена контракта после снижения': [winner_price],\n",
    "        'номер контракта': [num_of_contruct]\n",
    "        })\n",
    "    \n",
    "        return df\n",
    "    "
   ]
  },
  {
   "cell_type": "code",
   "execution_count": 17,
   "metadata": {},
   "outputs": [],
   "source": [
    "def get_empty_dataframe():\n",
    "    df = pd.DataFrame({\n",
    "    'Реестровый номер закупки': [],\n",
    "    'победитель': [],\n",
    "    'цена контракта после снижения': [],\n",
    "    'номер контракта': []\n",
    "    })\n",
    "    \n",
    "    return df"
   ]
  },
  {
   "cell_type": "code",
   "execution_count": 129,
   "metadata": {},
   "outputs": [],
   "source": [
    "def get_contruct(contruct_num):\n",
    "    link = link_pattern_fz44_contruct + contruct_num\n",
    "    soup = get_page(link)\n",
    "\n",
    "    contruct_div = soup.find_all('a', class_='')[2] \n",
    "    link_to_contruct = contruct_div.get('href')\n",
    "    file_name = contruct_div.get('title')\n",
    "\n",
    "    file_extension = re.findall(r'\\.[a-z]+', file_name)[0]\n",
    "    directory = 'contructs/' \n",
    "    filename =  directory + contruct_num + file_extension\n",
    "    file = requests.get(link_to_contruct, stream=True, headers={'User-Agent': UserAgent().chrome})\n",
    "    \n",
    "    if file.status_code == 200:\n",
    "        with open(filename, 'wb') as f:\n",
    "            file.raw.decode_content = True\n",
    "            shutil.copyfileobj(file.raw, f)"
   ]
  },
  {
   "cell_type": "code",
   "execution_count": null,
   "metadata": {},
   "outputs": [],
   "source": []
  },
  {
   "cell_type": "markdown",
   "metadata": {},
   "source": [
    "### * * * Сборочный стол * * *"
   ]
  },
  {
   "cell_type": "code",
   "execution_count": null,
   "metadata": {},
   "outputs": [],
   "source": []
  },
  {
   "cell_type": "code",
   "execution_count": 207,
   "metadata": {},
   "outputs": [],
   "source": [
    "order_num = '0149200002318006192'"
   ]
  },
  {
   "cell_type": "code",
   "execution_count": null,
   "metadata": {
    "scrolled": true
   },
   "outputs": [],
   "source": []
  },
  {
   "cell_type": "code",
   "execution_count": null,
   "metadata": {},
   "outputs": [],
   "source": []
  },
  {
   "cell_type": "code",
   "execution_count": null,
   "metadata": {},
   "outputs": [],
   "source": []
  },
  {
   "cell_type": "code",
   "execution_count": null,
   "metadata": {},
   "outputs": [],
   "source": []
  },
  {
   "cell_type": "code",
   "execution_count": null,
   "metadata": {},
   "outputs": [],
   "source": []
  },
  {
   "cell_type": "code",
   "execution_count": null,
   "metadata": {},
   "outputs": [],
   "source": []
  },
  {
   "cell_type": "code",
   "execution_count": null,
   "metadata": {},
   "outputs": [],
   "source": []
  },
  {
   "cell_type": "code",
   "execution_count": null,
   "metadata": {},
   "outputs": [],
   "source": []
  },
  {
   "cell_type": "code",
   "execution_count": null,
   "metadata": {},
   "outputs": [],
   "source": []
  },
  {
   "cell_type": "code",
   "execution_count": null,
   "metadata": {},
   "outputs": [],
   "source": []
  },
  {
   "cell_type": "markdown",
   "metadata": {},
   "source": [
    "### * * * THE END * * *"
   ]
  },
  {
   "cell_type": "code",
   "execution_count": null,
   "metadata": {},
   "outputs": [],
   "source": []
  },
  {
   "cell_type": "markdown",
   "metadata": {},
   "source": [
    "### Проверка"
   ]
  },
  {
   "cell_type": "code",
   "execution_count": null,
   "metadata": {},
   "outputs": [],
   "source": []
  },
  {
   "cell_type": "code",
   "execution_count": 151,
   "metadata": {},
   "outputs": [],
   "source": [
    "test_data = [ \n",
    "'0349100004618000225',\n",
    "'0349100004618000224',\n",
    "'0349100004618000228',\n",
    "'0149200002318006192',\n",
    "'0349100021118000118',\n",
    "'0149200002318005842',\n",
    "'0349200022018000059',\n",
    "'0149200002318005863',\n",
    "'0149200002318005050',\n",
    "'0149200002318005280',\n",
    "'0149200002318005233',\n",
    "'0149200002318005238',\n",
    "'0149200002318005091',\n",
    "'0149200002318005081',\n",
    "'0149200002318004994',\n",
    "'0149200002318005000',\n",
    "'0349200017118000031',\n",
    "'0149200002318004967',\n",
    "'0149200002318004616',\n",
    "'0149200002318004712']"
   ]
  },
  {
   "cell_type": "markdown",
   "metadata": {},
   "source": [
    "test_data = [ \n",
    "'0349100004618000225',\n",
    "'0349100004618000224',\n",
    "'0349100004618000228',\n",
    "'0149200002318006192',\n",
    "'0349100021118000118',\n",
    "'0149200002318005842',\n",
    "'0349200022018000059',\n",
    "'0149200002318005863']"
   ]
  },
  {
   "cell_type": "code",
   "execution_count": 233,
   "metadata": {},
   "outputs": [],
   "source": [
    "df = get_empty_dataframe()\n",
    "for order in test_data:\n",
    "    tmp_df = get_win_info_44(order)\n",
    "    df= pd.concat([df, tmp_df])\n",
    "    time.sleep(2)"
   ]
  },
  {
   "cell_type": "code",
   "execution_count": 234,
   "metadata": {},
   "outputs": [
    {
     "name": "stdout",
     "output_type": "stream",
     "text": [
      "<class 'pandas.core.frame.DataFrame'>\n",
      "Int64Index: 18 entries, 0 to 0\n",
      "Data columns (total 4 columns):\n",
      "Реестровый номер закупки         18 non-null object\n",
      "победитель                       18 non-null object\n",
      "цена контракта после снижения    18 non-null float64\n",
      "номер контракта                  18 non-null object\n",
      "dtypes: float64(1), object(3)\n",
      "memory usage: 720.0+ bytes\n"
     ]
    }
   ],
   "source": [
    "df.info()"
   ]
  },
  {
   "cell_type": "code",
   "execution_count": 236,
   "metadata": {},
   "outputs": [
    {
     "data": {
      "text/html": [
       "<div>\n",
       "<style scoped>\n",
       "    .dataframe tbody tr th:only-of-type {\n",
       "        vertical-align: middle;\n",
       "    }\n",
       "\n",
       "    .dataframe tbody tr th {\n",
       "        vertical-align: top;\n",
       "    }\n",
       "\n",
       "    .dataframe thead th {\n",
       "        text-align: right;\n",
       "    }\n",
       "</style>\n",
       "<table border=\"1\" class=\"dataframe\">\n",
       "  <thead>\n",
       "    <tr style=\"text-align: right;\">\n",
       "      <th></th>\n",
       "      <th>Реестровый номер закупки</th>\n",
       "      <th>победитель</th>\n",
       "      <th>цена контракта после снижения</th>\n",
       "      <th>номер контракта</th>\n",
       "    </tr>\n",
       "  </thead>\n",
       "  <tbody>\n",
       "    <tr>\n",
       "      <th>0</th>\n",
       "      <td>0349100004618000225</td>\n",
       "      <td>ОБЩЕСТВО С ОГРАНИЧЕННОЙ ОТВЕТСТВЕННОСТЬЮ \"СОРЭ...</td>\n",
       "      <td>512524.50</td>\n",
       "      <td>1511200012819000036</td>\n",
       "    </tr>\n",
       "    <tr>\n",
       "      <th>0</th>\n",
       "      <td>0349100004618000224</td>\n",
       "      <td>ОБЩЕСТВО С ОГРАНИЧЕННОЙ ОТВЕТСТВЕННОСТЬЮ \"ГРАН...</td>\n",
       "      <td>875440.80</td>\n",
       "      <td>1511200012819000042</td>\n",
       "    </tr>\n",
       "    <tr>\n",
       "      <th>0</th>\n",
       "      <td>0349100004618000228</td>\n",
       "      <td>ОБЩЕСТВО С ОГРАНИЧЕННОЙ ОТВЕТСТВЕННОСТЬЮ \"ГРАН...</td>\n",
       "      <td>49183.20</td>\n",
       "      <td>1511200012819000029</td>\n",
       "    </tr>\n",
       "    <tr>\n",
       "      <th>0</th>\n",
       "      <td>0349100021118000118</td>\n",
       "      <td>Общество с ограниченной ответственностью \"Сорэ...</td>\n",
       "      <td>516210.92</td>\n",
       "      <td>1519005315919000016</td>\n",
       "    </tr>\n",
       "    <tr>\n",
       "      <th>0</th>\n",
       "      <td>0149200002318005842</td>\n",
       "      <td>ООО 'СорэксМед'</td>\n",
       "      <td>572882.00</td>\n",
       "      <td>2519214003019000009</td>\n",
       "    </tr>\n",
       "    <tr>\n",
       "      <th>0</th>\n",
       "      <td>0349200022018000059</td>\n",
       "      <td>Общества с ограниченной ответственностью 'Сорэ...</td>\n",
       "      <td>308880.00</td>\n",
       "      <td>2519006077319000008</td>\n",
       "    </tr>\n",
       "    <tr>\n",
       "      <th>0</th>\n",
       "      <td>0149200002318005863</td>\n",
       "      <td>ЗАО \"Мурманский универсальный завод\"</td>\n",
       "      <td>689509.80</td>\n",
       "      <td>2510890002019000002</td>\n",
       "    </tr>\n",
       "    <tr>\n",
       "      <th>0</th>\n",
       "      <td>0149200002318005050</td>\n",
       "      <td>ООО \"ОРКО-ЦЕНТР\"</td>\n",
       "      <td>147060.00</td>\n",
       "      <td>2519150067418000350</td>\n",
       "    </tr>\n",
       "    <tr>\n",
       "      <th>0</th>\n",
       "      <td>0149200002318005280</td>\n",
       "      <td>ООО 'СорэксМед'</td>\n",
       "      <td>1095789.76</td>\n",
       "      <td>2519040415018000092</td>\n",
       "    </tr>\n",
       "    <tr>\n",
       "      <th>0</th>\n",
       "      <td>0149200002318005233</td>\n",
       "      <td>ООО \"ОРКО-ЦЕНТР\"</td>\n",
       "      <td>39825.00</td>\n",
       "      <td>2519011131518000067</td>\n",
       "    </tr>\n",
       "    <tr>\n",
       "      <th>0</th>\n",
       "      <td>0149200002318005238</td>\n",
       "      <td>ООО \"ОРКО-ЦЕНТР\"</td>\n",
       "      <td>443218.77</td>\n",
       "      <td>2519011131518000068</td>\n",
       "    </tr>\n",
       "    <tr>\n",
       "      <th>0</th>\n",
       "      <td>0149200002318005091</td>\n",
       "      <td>ООО 'СорэксМед'</td>\n",
       "      <td>4220747.22</td>\n",
       "      <td>2519007016118000452</td>\n",
       "    </tr>\n",
       "    <tr>\n",
       "      <th>0</th>\n",
       "      <td>0149200002318005081</td>\n",
       "      <td>ООО \"ОРКО-ЦЕНТР\"</td>\n",
       "      <td>384833.94</td>\n",
       "      <td>2519150067418000329</td>\n",
       "    </tr>\n",
       "    <tr>\n",
       "      <th>0</th>\n",
       "      <td>0149200002318004994</td>\n",
       "      <td>ООО \"ОРКО-ЦЕНТР\"</td>\n",
       "      <td>503690.95</td>\n",
       "      <td>3519002485618000083</td>\n",
       "    </tr>\n",
       "    <tr>\n",
       "      <th>0</th>\n",
       "      <td>0149200002318005000</td>\n",
       "      <td>ООО 'СорэксМед'</td>\n",
       "      <td>116492.59</td>\n",
       "      <td>3519002485618000085</td>\n",
       "    </tr>\n",
       "    <tr>\n",
       "      <th>0</th>\n",
       "      <td>0349200017118000031</td>\n",
       "      <td>ОБЩЕСТВО С ОГРАНИЧЕННОЙ ОТВЕТСТВЕННОСТЬЮ \"ЭКОТ...</td>\n",
       "      <td>20900.00</td>\n",
       "      <td>2519010915418000091</td>\n",
       "    </tr>\n",
       "    <tr>\n",
       "      <th>0</th>\n",
       "      <td>0149200002318004616</td>\n",
       "      <td>ООО \"СТО\"</td>\n",
       "      <td>547864.79</td>\n",
       "      <td>2519006933518000114</td>\n",
       "    </tr>\n",
       "    <tr>\n",
       "      <th>0</th>\n",
       "      <td>0149200002318004712</td>\n",
       "      <td>ООО 'СорэксМед'</td>\n",
       "      <td>50960.00</td>\n",
       "      <td>2519010262418000039</td>\n",
       "    </tr>\n",
       "  </tbody>\n",
       "</table>\n",
       "</div>"
      ],
      "text/plain": [
       "  Реестровый номер закупки                                         победитель  \\\n",
       "0      0349100004618000225  ОБЩЕСТВО С ОГРАНИЧЕННОЙ ОТВЕТСТВЕННОСТЬЮ \"СОРЭ...   \n",
       "0      0349100004618000224  ОБЩЕСТВО С ОГРАНИЧЕННОЙ ОТВЕТСТВЕННОСТЬЮ \"ГРАН...   \n",
       "0      0349100004618000228  ОБЩЕСТВО С ОГРАНИЧЕННОЙ ОТВЕТСТВЕННОСТЬЮ \"ГРАН...   \n",
       "0      0349100021118000118  Общество с ограниченной ответственностью \"Сорэ...   \n",
       "0      0149200002318005842                                    ООО 'СорэксМед'   \n",
       "0      0349200022018000059  Общества с ограниченной ответственностью 'Сорэ...   \n",
       "0      0149200002318005863               ЗАО \"Мурманский универсальный завод\"   \n",
       "0      0149200002318005050                                   ООО \"ОРКО-ЦЕНТР\"   \n",
       "0      0149200002318005280                                    ООО 'СорэксМед'   \n",
       "0      0149200002318005233                                   ООО \"ОРКО-ЦЕНТР\"   \n",
       "0      0149200002318005238                                   ООО \"ОРКО-ЦЕНТР\"   \n",
       "0      0149200002318005091                                    ООО 'СорэксМед'   \n",
       "0      0149200002318005081                                   ООО \"ОРКО-ЦЕНТР\"   \n",
       "0      0149200002318004994                                   ООО \"ОРКО-ЦЕНТР\"   \n",
       "0      0149200002318005000                                    ООО 'СорэксМед'   \n",
       "0      0349200017118000031  ОБЩЕСТВО С ОГРАНИЧЕННОЙ ОТВЕТСТВЕННОСТЬЮ \"ЭКОТ...   \n",
       "0      0149200002318004616                                          ООО \"СТО\"   \n",
       "0      0149200002318004712                                    ООО 'СорэксМед'   \n",
       "\n",
       "   цена контракта после снижения      номер контракта  \n",
       "0                      512524.50  1511200012819000036  \n",
       "0                      875440.80  1511200012819000042  \n",
       "0                       49183.20  1511200012819000029  \n",
       "0                      516210.92  1519005315919000016  \n",
       "0                      572882.00  2519214003019000009  \n",
       "0                      308880.00  2519006077319000008  \n",
       "0                      689509.80  2510890002019000002  \n",
       "0                      147060.00  2519150067418000350  \n",
       "0                     1095789.76  2519040415018000092  \n",
       "0                       39825.00  2519011131518000067  \n",
       "0                      443218.77  2519011131518000068  \n",
       "0                     4220747.22  2519007016118000452  \n",
       "0                      384833.94  2519150067418000329  \n",
       "0                      503690.95  3519002485618000083  \n",
       "0                      116492.59  3519002485618000085  \n",
       "0                       20900.00  2519010915418000091  \n",
       "0                      547864.79  2519006933518000114  \n",
       "0                       50960.00  2519010262418000039  "
      ]
     },
     "execution_count": 236,
     "metadata": {},
     "output_type": "execute_result"
    }
   ],
   "source": [
    "df"
   ]
  },
  {
   "cell_type": "code",
   "execution_count": null,
   "metadata": {},
   "outputs": [],
   "source": []
  },
  {
   "cell_type": "code",
   "execution_count": null,
   "metadata": {},
   "outputs": [],
   "source": []
  },
  {
   "cell_type": "markdown",
   "metadata": {},
   "source": [
    "# ПОМОЙКА"
   ]
  },
  {
   "cell_type": "code",
   "execution_count": null,
   "metadata": {},
   "outputs": [],
   "source": [
    "tag = soup.td\n",
    "tag"
   ]
  },
  {
   "cell_type": "code",
   "execution_count": null,
   "metadata": {},
   "outputs": [],
   "source": [
    "tag.attrs"
   ]
  },
  {
   "cell_type": "code",
   "execution_count": null,
   "metadata": {},
   "outputs": [],
   "source": [
    "tag.contents"
   ]
  },
  {
   "cell_type": "code",
   "execution_count": null,
   "metadata": {},
   "outputs": [],
   "source": [
    "for child in tag.descendants:\n",
    "    print(child)"
   ]
  },
  {
   "cell_type": "code",
   "execution_count": null,
   "metadata": {},
   "outputs": [],
   "source": [
    "len(list(soup.children))"
   ]
  },
  {
   "cell_type": "code",
   "execution_count": null,
   "metadata": {},
   "outputs": [],
   "source": [
    "len(list(soup.descendants))"
   ]
  },
  {
   "cell_type": "code",
   "execution_count": null,
   "metadata": {},
   "outputs": [],
   "source": []
  },
  {
   "cell_type": "code",
   "execution_count": null,
   "metadata": {},
   "outputs": [],
   "source": [
    "soup.find_all('div', class_='contentTabBoxBlock') # нашёл бокс с интересующей инфой"
   ]
  },
  {
   "cell_type": "code",
   "execution_count": null,
   "metadata": {},
   "outputs": [],
   "source": []
  },
  {
   "cell_type": "code",
   "execution_count": null,
   "metadata": {},
   "outputs": [],
   "source": []
  },
  {
   "cell_type": "code",
   "execution_count": null,
   "metadata": {},
   "outputs": [],
   "source": []
  },
  {
   "cell_type": "code",
   "execution_count": null,
   "metadata": {},
   "outputs": [],
   "source": [
    "b = soup.find_all('td')\n",
    "for i in range(len(b)):\n",
    "    print(f'**************{i}****************')\n",
    "    print(b[i])"
   ]
  },
  {
   "cell_type": "code",
   "execution_count": null,
   "metadata": {},
   "outputs": [],
   "source": [
    "b[16].text # winner"
   ]
  },
  {
   "cell_type": "code",
   "execution_count": null,
   "metadata": {},
   "outputs": [],
   "source": [
    "soup.find_all('td')[16].text"
   ]
  },
  {
   "cell_type": "code",
   "execution_count": null,
   "metadata": {},
   "outputs": [],
   "source": []
  },
  {
   "cell_type": "markdown",
   "metadata": {},
   "source": [
    " "
   ]
  },
  {
   "cell_type": "markdown",
   "metadata": {},
   "source": [
    "# СПРАВОЧНИК"
   ]
  },
  {
   "cell_type": "code",
   "execution_count": null,
   "metadata": {},
   "outputs": [],
   "source": [
    "# soup.find_all('a')  - все ссылки"
   ]
  },
  {
   "cell_type": "code",
   "execution_count": null,
   "metadata": {},
   "outputs": [],
   "source": []
  },
  {
   "cell_type": "code",
   "execution_count": null,
   "metadata": {},
   "outputs": [],
   "source": []
  },
  {
   "cell_type": "markdown",
   "metadata": {},
   "source": [
    "### Интересная штучка из  http://qaru.site/questions/15235681/beautifulsoup4-documentation-example-doesnt-work/24168590  для поиска определённых тагов"
   ]
  },
  {
   "cell_type": "code",
   "execution_count": null,
   "metadata": {},
   "outputs": [],
   "source": [
    "def has_class_but_no_id(tag):\n",
    "    return tag.has_attr('class') and not tag.has_attr('id')\n",
    "a.find_all(has_class_but_no_id)"
   ]
  },
  {
   "cell_type": "code",
   "execution_count": null,
   "metadata": {},
   "outputs": [],
   "source": []
  },
  {
   "cell_type": "code",
   "execution_count": null,
   "metadata": {},
   "outputs": [],
   "source": []
  },
  {
   "cell_type": "code",
   "execution_count": null,
   "metadata": {},
   "outputs": [],
   "source": []
  },
  {
   "cell_type": "code",
   "execution_count": null,
   "metadata": {},
   "outputs": [],
   "source": []
  },
  {
   "cell_type": "code",
   "execution_count": null,
   "metadata": {},
   "outputs": [],
   "source": []
  },
  {
   "cell_type": "code",
   "execution_count": null,
   "metadata": {},
   "outputs": [],
   "source": []
  },
  {
   "cell_type": "code",
   "execution_count": null,
   "metadata": {},
   "outputs": [],
   "source": [
    "# образец кода для парсинга слов в вики (первого порядка)\n",
    "def get_links(topic):\n",
    "    link = 'https://ru.m.wikipedia.org/wiki/' + topic.capitalize()\n",
    "    spam = get(link).text\n",
    "    soup = BS(spam, 'html.parser')\n",
    "    link_example = \"\"\" <a href=\"LINK\">CONTENT</a> \"\"\"\n",
    "    agg = soup.find_all(\"a\")\n",
    "    links = []\n",
    "    for n in agg:\n",
    "        lnk = n.get(\"href\")\n",
    "        if re.fullmatch(r'\\/wiki\\/(?:)[^\\',\\n]*|\\/w\\/(?:)[^\\',\\n]*', lnk) is not None:\n",
    "            links.append('https://ru.m.wikipedia.org' + lnk)\n",
    "        else:\n",
    "            continue\n",
    "    links.append(link)\n",
    "\n",
    "    return links"
   ]
  },
  {
   "cell_type": "code",
   "execution_count": null,
   "metadata": {},
   "outputs": [],
   "source": []
  },
  {
   "cell_type": "code",
   "execution_count": 45,
   "metadata": {},
   "outputs": [
    {
     "name": "stdout",
     "output_type": "stream",
     "text": [
      "/epz/main/public/home.html\n",
      "/epz/order/notice/rss?regNumber=0349200022018000059\n",
      "/epz/order/notice/printForm/view.html?printFormId=82362759\n",
      "/epz/order/notice/zk44/view/protocol/protocol-main-info.html?regNumber=0349200022018000059&protocolId=21877585\n",
      "/epz/contract/signview/list.html?printFormId=167266275\n",
      "/epz/contract/printForm/view.html?printFormId=167266275\n",
      "/epz/contract/contractCard/common-info.html?reestrNumber=2519006077319000008\n"
     ]
    }
   ],
   "source": [
    "# цикл, возвращающий ссылки:\n",
    "for i in soup.find_all('a', href=True):\n",
    "    print(i['href'])"
   ]
  },
  {
   "cell_type": "code",
   "execution_count": null,
   "metadata": {},
   "outputs": [],
   "source": []
  },
  {
   "cell_type": "code",
   "execution_count": null,
   "metadata": {},
   "outputs": [],
   "source": []
  },
  {
   "cell_type": "code",
   "execution_count": null,
   "metadata": {},
   "outputs": [],
   "source": []
  }
 ],
 "metadata": {
  "kernelspec": {
   "display_name": "Python 3",
   "language": "python",
   "name": "python3"
  },
  "language_info": {
   "codemirror_mode": {
    "name": "ipython",
    "version": 3
   },
   "file_extension": ".py",
   "mimetype": "text/x-python",
   "name": "python",
   "nbconvert_exporter": "python",
   "pygments_lexer": "ipython3",
   "version": "3.7.3"
  }
 },
 "nbformat": 4,
 "nbformat_minor": 2
}
